{
 "cells": [
  {
   "cell_type": "code",
   "execution_count": 80,
   "id": "521c3932-2ca3-4c01-bcd1-07d8d6d19d8e",
   "metadata": {},
   "outputs": [],
   "source": [
    "import pandas as pd\n",
    "import numpy as np\n",
    "import re"
   ]
  },
  {
   "cell_type": "code",
   "execution_count": 81,
   "id": "a08fd6a1-de20-486b-b8f7-04357d8e2f84",
   "metadata": {},
   "outputs": [],
   "source": [
    "df = pd.read_csv(\"generated.csv\")"
   ]
  },
  {
   "cell_type": "code",
   "execution_count": 82,
   "id": "283da7ac-5fde-4a00-9fdb-25a6941aeaf3",
   "metadata": {},
   "outputs": [
    {
     "data": {
      "text/html": [
       "<div>\n",
       "<style scoped>\n",
       "    .dataframe tbody tr th:only-of-type {\n",
       "        vertical-align: middle;\n",
       "    }\n",
       "\n",
       "    .dataframe tbody tr th {\n",
       "        vertical-align: top;\n",
       "    }\n",
       "\n",
       "    .dataframe thead th {\n",
       "        text-align: right;\n",
       "    }\n",
       "</style>\n",
       "<table border=\"1\" class=\"dataframe\">\n",
       "  <thead>\n",
       "    <tr style=\"text-align: right;\">\n",
       "      <th></th>\n",
       "      <th>llm</th>\n",
       "      <th>response</th>\n",
       "    </tr>\n",
       "  </thead>\n",
       "  <tbody>\n",
       "    <tr>\n",
       "      <th>0</th>\n",
       "      <td>llama3.2</td>\n",
       "      <td>TERMS OF REFERENCE (ToR)\\n\\*\\*Background\\*\\*\\n...</td>\n",
       "    </tr>\n",
       "    <tr>\n",
       "      <th>1</th>\n",
       "      <td>gemma3:4b</td>\n",
       "      <td>\\*\\*Terms of Reference: Tech Mahindra Performa...</td>\n",
       "    </tr>\n",
       "    <tr>\n",
       "      <th>2</th>\n",
       "      <td>qwen3:4b</td>\n",
       "      <td>\\*\\*Terms of Reference (ToR)\\*\\*\\n\\*\\*1. Backg...</td>\n",
       "    </tr>\n",
       "    <tr>\n",
       "      <th>3</th>\n",
       "      <td>deepseek-r1:7b</td>\n",
       "      <td>\\*\\*Terms of Reference (ToR) for Stock Perform...</td>\n",
       "    </tr>\n",
       "    <tr>\n",
       "      <th>4</th>\n",
       "      <td>llama3.2</td>\n",
       "      <td>\\*\\*Terms of Reference\\*\\*\\n\\*\\*Background\\*\\*...</td>\n",
       "    </tr>\n",
       "  </tbody>\n",
       "</table>\n",
       "</div>"
      ],
      "text/plain": [
       "              llm                                           response\n",
       "0        llama3.2  TERMS OF REFERENCE (ToR)\\n\\*\\*Background\\*\\*\\n...\n",
       "1       gemma3:4b  \\*\\*Terms of Reference: Tech Mahindra Performa...\n",
       "2        qwen3:4b  \\*\\*Terms of Reference (ToR)\\*\\*\\n\\*\\*1. Backg...\n",
       "3  deepseek-r1:7b  \\*\\*Terms of Reference (ToR) for Stock Perform...\n",
       "4        llama3.2  \\*\\*Terms of Reference\\*\\*\\n\\*\\*Background\\*\\*..."
      ]
     },
     "execution_count": 82,
     "metadata": {},
     "output_type": "execute_result"
    }
   ],
   "source": [
    "df.head()"
   ]
  },
  {
   "cell_type": "code",
   "execution_count": 83,
   "id": "51223b0d-fe2b-4b79-9cd2-95ca2a5477d9",
   "metadata": {},
   "outputs": [
    {
     "data": {
      "text/plain": [
       "(141, 2)"
      ]
     },
     "execution_count": 83,
     "metadata": {},
     "output_type": "execute_result"
    }
   ],
   "source": [
    "df.shape"
   ]
  },
  {
   "cell_type": "code",
   "execution_count": 84,
   "id": "c4dede04-1c2c-482e-8f38-86791a18f290",
   "metadata": {},
   "outputs": [
    {
     "name": "stdout",
     "output_type": "stream",
     "text": [
      "TERMS OF REFERENCE (ToR)\n",
      "\\*\\*Background\\*\\*\n",
      "The objective of this project is to support smart Europe GmbH in transforming its Direct-to-Customer (D2C) business model in Europe and enhancing customer experience, data-driven personalization, and engagement. The transformation will focus on improving the online EV buying experience and applying state-of-the-art Machine Learning (ML) models to forecast sales and aftersales demand.\n",
      "\\*\\*Objectives\\*\\*\n",
      "The specific objectives of this project are:\n",
      "1. To enhance the online EV buying experience for smart Europe GmbH's customers in 15 European countries.\n",
      "2. To apply ML models to accurately forecast sales and aftersales demand for the company's EV products.\n",
      "3. To enable consolidation across automotive sales and e-commerce processes and systems.\n",
      "4. To secure engagement across lead generation, prospect conversion, sales, and aftersales channels.\n",
      "\\*\\*Scope of Work\\*\\*\n",
      "The consultant will be responsible for:\n",
      "1. Conducting a thorough analysis of smart Europe GmbH's current D2C business model and identifying areas for improvement.\n",
      "2. Developing and implementing a new online EV buying experience that meets the company's customer needs and expectations.\n",
      "3. Applying ML models to analyze sales and aftersales demand data and providing recommendations for optimization.\n",
      "4. Implementing processes and systems integration across automotive sales and e-commerce channels.\n",
      "5. Securing engagement across lead generation, prospect conversion, sales, and aftersales channels.\n",
      "Deliverables:\n",
      "1. A comprehensive report on the analysis of smart Europe GmbH's current D2C business model (due within 6 weeks of commencement).\n",
      "2. A new online EV buying experience design that meets the company's customer needs and expectations (due within 12 weeks of commencement).\n",
      "3. An ML model implementation plan to forecast sales and aftersales demand (due within 8 weeks of commencement).\n",
      "4. A report on processes and systems integration across automotive sales and e-commerce channels (due within 10 weeks of commencement).\n",
      "\\*\\*Methodology\\*\\*\n",
      "The consultant will employ a collaborative approach, working closely with smart Europe GmbH's stakeholders to understand their needs and requirements. The methodology will include:\n",
      "1. Stakeholder engagement and meetings.\n",
      "2. Data analysis and report writing.\n",
      "3. Designing and implementing the new online EV buying experience.\n",
      "4. Applying ML models to forecast sales and aftersales demand.\n",
      "5. Processes and systems integration.\n",
      "\\*\\*Deliverables\\*\\*\n",
      "In addition to those listed in Section 3, the consultant will also provide:\n",
      "1. A comprehensive project plan, including key milestones and timelines (due within 2 weeks of commencement).\n",
      "2. Regular progress reports to smart Europe GmbH's management team (every 4 weeks during the project duration).\n",
      "\\*\\*Duration\\*\\*\n",
      "The project is expected to commence on [start date] and be completed by [end date]. Key milestones include:\n",
      "1. Completion of the analysis report (Week 6).\n",
      "2. Implementation of the new online EV buying experience (Week 18).\n",
      "3. Completion of ML model implementation (Week 26).\n",
      "\\*\\*Qualifications and Experience\\*\\*\n",
      "The consultant should have:\n",
      "1. Proven experience in D2C business transformation projects.\n",
      "2. Expertise in digital marketing, e-commerce, and automotive sales processes.\n",
      "3. Knowledge of ML models and data analytics tools.\n",
      "\\*\\*Reporting Requirements\\*\\*\n",
      "The consultant will report to smart Europe GmbH's management team on a bi-weekly basis, providing updates on project progress and highlighting any issues or concerns that may impact the delivery timeline.\n",
      "\\*\\*Reference Documents\\*\\*\n",
      "The following documents are relevant to this project:\n",
      "1. Smart Europe GmbH's company policies and procedures.\n",
      "2. Industry reports and research studies on D2C business transformation and digital marketing trends.\n",
      "3. Technical documentation for ML models and data analytics tools.\n"
     ]
    }
   ],
   "source": [
    "print(df.response[0])"
   ]
  },
  {
   "cell_type": "code",
   "execution_count": 85,
   "id": "db8e67cd-2b3f-409a-8d6c-97ee486fbfbc",
   "metadata": {},
   "outputs": [
    {
     "name": "stdout",
     "output_type": "stream",
     "text": [
      "cleaned_text 0\n",
      "cleaned_text 1\n",
      "cleaned_text 2\n",
      "cleaned_text 3\n",
      "cleaned_text 4\n",
      "cleaned_text 5\n",
      "cleaned_text 6\n",
      "cleaned_text 7\n",
      "cleaned_text 8\n",
      "cleaned_text 9\n",
      "cleaned_text 10\n",
      "cleaned_text 11\n",
      "cleaned_text 12\n",
      "cleaned_text 13\n",
      "cleaned_text 14\n",
      "cleaned_text 15\n",
      "cleaned_text 16\n",
      "cleaned_text 17\n",
      "cleaned_text 18\n",
      "cleaned_text 19\n",
      "cleaned_text 20\n",
      "cleaned_text 21\n",
      "cleaned_text 22\n",
      "cleaned_text 23\n",
      "cleaned_text 24\n",
      "cleaned_text 25\n",
      "cleaned_text 26\n",
      "cleaned_text 27\n",
      "cleaned_text 28\n",
      "cleaned_text 29\n",
      "cleaned_text 30\n",
      "cleaned_text 31\n",
      "cleaned_text 32\n",
      "cleaned_text 33\n",
      "cleaned_text 34\n",
      "cleaned_text 35\n",
      "cleaned_text 36\n",
      "cleaned_text 37\n",
      "cleaned_text 38\n",
      "cleaned_text 39\n",
      "cleaned_text 40\n",
      "cleaned_text 41\n",
      "cleaned_text 42\n",
      "cleaned_text 43\n",
      "cleaned_text 44\n",
      "cleaned_text 45\n",
      "cleaned_text 46\n",
      "cleaned_text 47\n",
      "cleaned_text 48\n",
      "cleaned_text 49\n",
      "cleaned_text 50\n",
      "cleaned_text 51\n",
      "cleaned_text 52\n",
      "cleaned_text 53\n",
      "cleaned_text 54\n",
      "cleaned_text 55\n",
      "cleaned_text 56\n",
      "cleaned_text 57\n",
      "cleaned_text 58\n",
      "cleaned_text 59\n",
      "cleaned_text 60\n",
      "cleaned_text 61\n",
      "cleaned_text 62\n",
      "cleaned_text 63\n",
      "cleaned_text 64\n",
      "cleaned_text 65\n",
      "cleaned_text 66\n",
      "cleaned_text 67\n",
      "cleaned_text 68\n",
      "cleaned_text 69\n",
      "cleaned_text 70\n",
      "cleaned_text 71\n",
      "cleaned_text 72\n",
      "cleaned_text 73\n",
      "cleaned_text 74\n",
      "cleaned_text 75\n",
      "cleaned_text 76\n",
      "cleaned_text 77\n",
      "cleaned_text 78\n",
      "cleaned_text 79\n",
      "cleaned_text 80\n",
      "cleaned_text 81\n",
      "cleaned_text 82\n",
      "cleaned_text 83\n",
      "cleaned_text 84\n",
      "cleaned_text 85\n",
      "cleaned_text 86\n",
      "cleaned_text 87\n",
      "cleaned_text 88\n",
      "cleaned_text 89\n",
      "cleaned_text 90\n",
      "cleaned_text 91\n",
      "cleaned_text 92\n",
      "cleaned_text 93\n",
      "cleaned_text 94\n",
      "cleaned_text 95\n",
      "cleaned_text 96\n",
      "cleaned_text 97\n",
      "cleaned_text 98\n",
      "cleaned_text 99\n",
      "cleaned_text 100\n",
      "cleaned_text 101\n",
      "cleaned_text 102\n",
      "cleaned_text 103\n",
      "cleaned_text 104\n",
      "cleaned_text 105\n",
      "cleaned_text 106\n",
      "cleaned_text 107\n",
      "cleaned_text 108\n",
      "cleaned_text 109\n",
      "cleaned_text 110\n",
      "cleaned_text 111\n",
      "cleaned_text 112\n",
      "cleaned_text 113\n",
      "cleaned_text 114\n",
      "cleaned_text 115\n",
      "cleaned_text 116\n",
      "cleaned_text 117\n",
      "cleaned_text 118\n",
      "cleaned_text 119\n",
      "cleaned_text 120\n",
      "cleaned_text 121\n",
      "cleaned_text 122\n",
      "cleaned_text 123\n",
      "cleaned_text 124\n",
      "cleaned_text 125\n",
      "cleaned_text 126\n",
      "cleaned_text 127\n",
      "cleaned_text 128\n",
      "cleaned_text 129\n",
      "cleaned_text 130\n",
      "cleaned_text 131\n",
      "cleaned_text 132\n",
      "cleaned_text 133\n",
      "cleaned_text 134\n",
      "cleaned_text 135\n",
      "cleaned_text 136\n",
      "cleaned_text 137\n",
      "cleaned_text 138\n",
      "cleaned_text 139\n",
      "cleaned_text 140\n"
     ]
    }
   ],
   "source": [
    "for i, x in enumerate(df.response):\n",
    "    # Remove all instances of /*/*\n",
    "    cleaned_text = re.sub(r'\\\\\\*\\\\\\*', '', x)\n",
    "    cleaned_text = re.sub(r'\\n', ' ', cleaned_text)\n",
    "    df.loc[i, \"response\"] = cleaned_text\n",
    "    print(\"cleaned_text\", i)"
   ]
  },
  {
   "cell_type": "code",
   "execution_count": 86,
   "id": "b15d5f36-2829-4e43-a3e9-b44773840bd0",
   "metadata": {},
   "outputs": [
    {
     "data": {
      "text/html": [
       "<div>\n",
       "<style scoped>\n",
       "    .dataframe tbody tr th:only-of-type {\n",
       "        vertical-align: middle;\n",
       "    }\n",
       "\n",
       "    .dataframe tbody tr th {\n",
       "        vertical-align: top;\n",
       "    }\n",
       "\n",
       "    .dataframe thead th {\n",
       "        text-align: right;\n",
       "    }\n",
       "</style>\n",
       "<table border=\"1\" class=\"dataframe\">\n",
       "  <thead>\n",
       "    <tr style=\"text-align: right;\">\n",
       "      <th></th>\n",
       "      <th>llm</th>\n",
       "      <th>response</th>\n",
       "    </tr>\n",
       "  </thead>\n",
       "  <tbody>\n",
       "    <tr>\n",
       "      <th>0</th>\n",
       "      <td>llama3.2</td>\n",
       "      <td>TERMS OF REFERENCE (ToR) Background The object...</td>\n",
       "    </tr>\n",
       "    <tr>\n",
       "      <th>1</th>\n",
       "      <td>gemma3:4b</td>\n",
       "      <td>Terms of Reference: Tech Mahindra Performance ...</td>\n",
       "    </tr>\n",
       "    <tr>\n",
       "      <th>2</th>\n",
       "      <td>qwen3:4b</td>\n",
       "      <td>Terms of Reference (ToR) 1. Background Waycool...</td>\n",
       "    </tr>\n",
       "    <tr>\n",
       "      <th>3</th>\n",
       "      <td>deepseek-r1:7b</td>\n",
       "      <td>Terms of Reference (ToR) for Stock Performance...</td>\n",
       "    </tr>\n",
       "    <tr>\n",
       "      <th>4</th>\n",
       "      <td>llama3.2</td>\n",
       "      <td>Terms of Reference Background Amagi, a leading...</td>\n",
       "    </tr>\n",
       "  </tbody>\n",
       "</table>\n",
       "</div>"
      ],
      "text/plain": [
       "              llm                                           response\n",
       "0        llama3.2  TERMS OF REFERENCE (ToR) Background The object...\n",
       "1       gemma3:4b  Terms of Reference: Tech Mahindra Performance ...\n",
       "2        qwen3:4b  Terms of Reference (ToR) 1. Background Waycool...\n",
       "3  deepseek-r1:7b  Terms of Reference (ToR) for Stock Performance...\n",
       "4        llama3.2  Terms of Reference Background Amagi, a leading..."
      ]
     },
     "execution_count": 86,
     "metadata": {},
     "output_type": "execute_result"
    }
   ],
   "source": [
    "df.head()"
   ]
  },
  {
   "cell_type": "code",
   "execution_count": 87,
   "id": "c7f89b01-d50e-4eae-89b9-01e959fb6d3b",
   "metadata": {},
   "outputs": [
    {
     "data": {
      "text/plain": [
       "\"TERMS OF REFERENCE (ToR) Background The objective of this project is to support smart Europe GmbH in transforming its Direct-to-Customer (D2C) business model in Europe and enhancing customer experience, data-driven personalization, and engagement. The transformation will focus on improving the online EV buying experience and applying state-of-the-art Machine Learning (ML) models to forecast sales and aftersales demand. Objectives The specific objectives of this project are: 1. To enhance the online EV buying experience for smart Europe GmbH's customers in 15 European countries. 2. To apply ML models to accurately forecast sales and aftersales demand for the company's EV products. 3. To enable consolidation across automotive sales and e-commerce processes and systems. 4. To secure engagement across lead generation, prospect conversion, sales, and aftersales channels. Scope of Work The consultant will be responsible for: 1. Conducting a thorough analysis of smart Europe GmbH's current D2C business model and identifying areas for improvement. 2. Developing and implementing a new online EV buying experience that meets the company's customer needs and expectations. 3. Applying ML models to analyze sales and aftersales demand data and providing recommendations for optimization. 4. Implementing processes and systems integration across automotive sales and e-commerce channels. 5. Securing engagement across lead generation, prospect conversion, sales, and aftersales channels. Deliverables: 1. A comprehensive report on the analysis of smart Europe GmbH's current D2C business model (due within 6 weeks of commencement). 2. A new online EV buying experience design that meets the company's customer needs and expectations (due within 12 weeks of commencement). 3. An ML model implementation plan to forecast sales and aftersales demand (due within 8 weeks of commencement). 4. A report on processes and systems integration across automotive sales and e-commerce channels (due within 10 weeks of commencement). Methodology The consultant will employ a collaborative approach, working closely with smart Europe GmbH's stakeholders to understand their needs and requirements. The methodology will include: 1. Stakeholder engagement and meetings. 2. Data analysis and report writing. 3. Designing and implementing the new online EV buying experience. 4. Applying ML models to forecast sales and aftersales demand. 5. Processes and systems integration. Deliverables In addition to those listed in Section 3, the consultant will also provide: 1. A comprehensive project plan, including key milestones and timelines (due within 2 weeks of commencement). 2. Regular progress reports to smart Europe GmbH's management team (every 4 weeks during the project duration). Duration The project is expected to commence on [start date] and be completed by [end date]. Key milestones include: 1. Completion of the analysis report (Week 6). 2. Implementation of the new online EV buying experience (Week 18). 3. Completion of ML model implementation (Week 26). Qualifications and Experience The consultant should have: 1. Proven experience in D2C business transformation projects. 2. Expertise in digital marketing, e-commerce, and automotive sales processes. 3. Knowledge of ML models and data analytics tools. Reporting Requirements The consultant will report to smart Europe GmbH's management team on a bi-weekly basis, providing updates on project progress and highlighting any issues or concerns that may impact the delivery timeline. Reference Documents The following documents are relevant to this project: 1. Smart Europe GmbH's company policies and procedures. 2. Industry reports and research studies on D2C business transformation and digital marketing trends. 3. Technical documentation for ML models and data analytics tools.\""
      ]
     },
     "execution_count": 87,
     "metadata": {},
     "output_type": "execute_result"
    }
   ],
   "source": [
    "df.response[0]"
   ]
  },
  {
   "cell_type": "code",
   "execution_count": 88,
   "id": "9a90d06e-7bfd-4489-b505-0513e589956a",
   "metadata": {},
   "outputs": [
    {
     "name": "stderr",
     "output_type": "stream",
     "text": [
      "[nltk_data] Downloading package punkt to\n",
      "[nltk_data]     C:\\Users\\91962\\AppData\\Roaming\\nltk_data...\n",
      "[nltk_data]   Package punkt is already up-to-date!\n",
      "[nltk_data] Downloading package stopwords to\n",
      "[nltk_data]     C:\\Users\\91962\\AppData\\Roaming\\nltk_data...\n",
      "[nltk_data]   Package stopwords is already up-to-date!\n",
      "[nltk_data] Downloading package wordnet to\n",
      "[nltk_data]     C:\\Users\\91962\\AppData\\Roaming\\nltk_data...\n",
      "[nltk_data]   Package wordnet is already up-to-date!\n",
      "[nltk_data] Downloading package omw-1.4 to\n",
      "[nltk_data]     C:\\Users\\91962\\AppData\\Roaming\\nltk_data...\n",
      "[nltk_data]   Package omw-1.4 is already up-to-date!\n"
     ]
    },
    {
     "data": {
      "text/plain": [
       "True"
      ]
     },
     "execution_count": 88,
     "metadata": {},
     "output_type": "execute_result"
    }
   ],
   "source": [
    "import nltk\n",
    "nltk.download(\"punkt\")\n",
    "nltk.download(\"stopwords\")\n",
    "nltk.download(\"wordnet\")\n",
    "nltk.download(\"omw-1.4\")"
   ]
  },
  {
   "cell_type": "code",
   "execution_count": 89,
   "id": "8ee896cf-16c7-43d3-a4b2-523093327870",
   "metadata": {},
   "outputs": [
    {
     "name": "stderr",
     "output_type": "stream",
     "text": [
      "[nltk_data] Downloading package punkt_tab to\n",
      "[nltk_data]     C:\\Users\\91962\\AppData\\Roaming\\nltk_data...\n",
      "[nltk_data]   Package punkt_tab is already up-to-date!\n"
     ]
    },
    {
     "data": {
      "text/plain": [
       "True"
      ]
     },
     "execution_count": 89,
     "metadata": {},
     "output_type": "execute_result"
    }
   ],
   "source": [
    "nltk.download('punkt_tab')"
   ]
  },
  {
   "cell_type": "code",
   "execution_count": 90,
   "id": "ab936a53-6b7e-46ef-b32a-d6ccad40c19c",
   "metadata": {},
   "outputs": [],
   "source": [
    "import re\n",
    "import string\n",
    "from nltk.tokenize import word_tokenize\n",
    "from nltk.corpus import stopwords\n",
    "from nltk.stem import  WordNetLemmatizer"
   ]
  },
  {
   "cell_type": "code",
   "execution_count": 91,
   "id": "ed73dc44-ded0-4b66-84fe-878f7d6b0429",
   "metadata": {},
   "outputs": [],
   "source": [
    "#get the stopwords\n",
    "stop_words = set(stopwords.words(\"english\"))\n",
    "rfp_words = [\"term\", \"reference\", \"tor\", \"objective\", \"background\", \"work\", \"scope\", \"methodology\", \"deliverables\", \"duration\", \"qualification\", \n",
    "            \"experience\", \"requirements\", \"documents\"]\n",
    "# meaningful replacement instead of just cutting like steemers do\n",
    "lemmatizer = WordNetLemmatizer()\n",
    "\n",
    "# preprocess so that burden on gpu lessens when creating meaningful embedding and noise gets reduced\n",
    "def preprocess_text(text):\n",
    "    # lower and punctuation removal\n",
    "    text = text.lower()\n",
    "    text = text.translate(str.maketrans(\"\", \"\", string.punctuation))\n",
    "    # tokenize and stopwords reomval\n",
    "    words = word_tokenize(text)\n",
    "    words = [word for word in words if word not in stop_words]\n",
    "    # lemmatization\n",
    "    lemmd = [lemmatizer.lemmatize(word) for word in words]\n",
    "    # remove those words related to RFP\n",
    "    final = [word for word in lemmd if word not in rfp_words]\n",
    "    return \" \".join(final)"
   ]
  },
  {
   "cell_type": "code",
   "execution_count": 92,
   "id": "bc8c67b8-89a6-4028-b20a-200c1c0c7e23",
   "metadata": {},
   "outputs": [],
   "source": [
    "for i, x in enumerate(df.response):\n",
    "    newx = preprocess_text(x)\n",
    "    df.loc[i, \"response\"] = newx"
   ]
  },
  {
   "cell_type": "code",
   "execution_count": 93,
   "id": "556e91fe-ec25-4d1d-96da-04dcfbdcbc4c",
   "metadata": {},
   "outputs": [
    {
     "data": {
      "text/html": [
       "<div>\n",
       "<style scoped>\n",
       "    .dataframe tbody tr th:only-of-type {\n",
       "        vertical-align: middle;\n",
       "    }\n",
       "\n",
       "    .dataframe tbody tr th {\n",
       "        vertical-align: top;\n",
       "    }\n",
       "\n",
       "    .dataframe thead th {\n",
       "        text-align: right;\n",
       "    }\n",
       "</style>\n",
       "<table border=\"1\" class=\"dataframe\">\n",
       "  <thead>\n",
       "    <tr style=\"text-align: right;\">\n",
       "      <th></th>\n",
       "      <th>llm</th>\n",
       "      <th>response</th>\n",
       "    </tr>\n",
       "  </thead>\n",
       "  <tbody>\n",
       "    <tr>\n",
       "      <th>0</th>\n",
       "      <td>llama3.2</td>\n",
       "      <td>project support smart europe gmbh transforming...</td>\n",
       "    </tr>\n",
       "    <tr>\n",
       "      <th>1</th>\n",
       "      <td>gemma3:4b</td>\n",
       "      <td>tech mahindra performance analysis 1 analysis ...</td>\n",
       "    </tr>\n",
       "    <tr>\n",
       "      <th>2</th>\n",
       "      <td>qwen3:4b</td>\n",
       "      <td>1 waycool leading agritech startup founded 201...</td>\n",
       "    </tr>\n",
       "    <tr>\n",
       "      <th>3</th>\n",
       "      <td>deepseek-r1:7b</td>\n",
       "      <td>stock performance analysis coal india ltd 1 ou...</td>\n",
       "    </tr>\n",
       "    <tr>\n",
       "      <th>4</th>\n",
       "      <td>llama3.2</td>\n",
       "      <td>amagi leading mediatech unicorn signed definit...</td>\n",
       "    </tr>\n",
       "  </tbody>\n",
       "</table>\n",
       "</div>"
      ],
      "text/plain": [
       "              llm                                           response\n",
       "0        llama3.2  project support smart europe gmbh transforming...\n",
       "1       gemma3:4b  tech mahindra performance analysis 1 analysis ...\n",
       "2        qwen3:4b  1 waycool leading agritech startup founded 201...\n",
       "3  deepseek-r1:7b  stock performance analysis coal india ltd 1 ou...\n",
       "4        llama3.2  amagi leading mediatech unicorn signed definit..."
      ]
     },
     "execution_count": 93,
     "metadata": {},
     "output_type": "execute_result"
    }
   ],
   "source": [
    "df.head()"
   ]
  },
  {
   "cell_type": "code",
   "execution_count": null,
   "id": "e96d2f9f-43a7-4571-9151-0c7318e3d4b7",
   "metadata": {},
   "outputs": [],
   "source": []
  }
 ],
 "metadata": {
  "kernelspec": {
   "display_name": "dl-cuda",
   "language": "python",
   "name": "dl"
  },
  "language_info": {
   "codemirror_mode": {
    "name": "ipython",
    "version": 3
   },
   "file_extension": ".py",
   "mimetype": "text/x-python",
   "name": "python",
   "nbconvert_exporter": "python",
   "pygments_lexer": "ipython3",
   "version": "3.9.18"
  }
 },
 "nbformat": 4,
 "nbformat_minor": 5
}
